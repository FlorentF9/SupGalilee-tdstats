{
 "cells": [
  {
   "cell_type": "markdown",
   "metadata": {},
   "source": [
    "# TD 2 | Analyse et visualisation de données avec numpy, pandas et matplotlib\n",
    "\n",
    "Florent FOREST\n",
    "\n",
    "forest@lipn.univ-paris13.fr\n",
    "\n",
    "---\n",
    "\n",
    "Objectifs du TD :\n",
    "\n",
    "* découvrir la visualisation de données avec matplotlib\n",
    "* approfondir la maîtrise de numpy et pandas\n",
    "* effectuer une première analyse exploratoire de données (EDA)\n",
    "* découvrir la librairie de machine learning (ML) scikit-learn\n",
    "* appliquer des techniques basiques d'apprentissage non supervisé pour visualiser et classifier des données (PCA, $k$-means)\n",
    "\n",
    "---"
   ]
  },
  {
   "cell_type": "markdown",
   "metadata": {},
   "source": [
    "## 1. Exploratory Data Analysis (EDA) avec matplotlib\n",
    "\n",
    "<img src=\"rc/matplotlib.png\" />\n",
    "\n",
    "La librairie la plus couramment utilisée pour visualiser des données en Python est matplotlib (https://matplotlib.org/). D'autres librairies très utilisées et permettant certaines fonctionnalités plus avancées sont plotly (https://plot.ly/python/), bokeh (https://bokeh.pydata.org/en/latest/) ou encore seaborn (https://seaborn.pydata.org/). Nous allons dans un premier temps découvrir la première, matplotlib.\n",
    "\n",
    "Le contexte permettant de tracer des graphes est `matplotlib.pyplot`, que l'on abrège souvent par `plt`, comme ci-dessous :"
   ]
  },
  {
   "cell_type": "code",
   "execution_count": null,
   "metadata": {},
   "outputs": [],
   "source": [
    "import matplotlib.pyplot as plt"
   ]
  },
  {
   "cell_type": "markdown",
   "metadata": {},
   "source": [
    "**La documentation de pyplot : https://matplotlib.org/api/_as_gen/matplotlib.pyplot.html#module-matplotlib.pyplot**\n",
    "\n",
    "Découvrons les différents types de graphes en pratique, à l'aide du fichier `Vol010.csv`.\n",
    "\n",
    "### Chargement des données de vol"
   ]
  },
  {
   "cell_type": "code",
   "execution_count": null,
   "metadata": {},
   "outputs": [],
   "source": [
    "!git clone https://github.com/FlorentF9/SupGalilee-tdstats.git"
   ]
  },
  {
   "cell_type": "code",
   "execution_count": null,
   "metadata": {},
   "outputs": [],
   "source": [
    "import os\n",
    "os.chdir('SupGalilee-tdstats')"
   ]
  },
  {
   "cell_type": "code",
   "execution_count": null,
   "metadata": {},
   "outputs": [],
   "source": [
    "import pandas as pd\n",
    "import numpy as np"
   ]
  },
  {
   "cell_type": "code",
   "execution_count": null,
   "metadata": {},
   "outputs": [],
   "source": [
    "# Ne pas modifier\n",
    "vol = pd.read_csv(\"./data/Vol010.csv\").drop(0).dropna(how='any').iloc[::10] # On ne garde qu'un point sur 10 pour limiter les points à affichervol\n",
    "vol.index = np.arange(vol.shape[0])\n",
    "vol['t'] = pd.to_datetime(vol['t'])\n",
    "vol[vol.columns[1:]] = vol[vol.columns[1:]].apply(pd.to_numeric)\n",
    "vol['FLIGHT_MOD'] = vol['FLIGHT_MOD'].apply(int)"
   ]
  },
  {
   "cell_type": "code",
   "execution_count": null,
   "metadata": {},
   "outputs": [],
   "source": [
    "print(vol.shape)\n",
    "vol.head()"
   ]
  },
  {
   "cell_type": "markdown",
   "metadata": {},
   "source": [
    "### Line/Scatter plot : Visualisation d'un vol avec `plt.plot`"
   ]
  },
  {
   "cell_type": "markdown",
   "metadata": {},
   "source": [
    "La méthode `plt.plot(x=..., y=..., options)` permet de visualiser des points sur un graphique. La commande ci-dessous affiche la valeur d'une variable au cours du temps. "
   ]
  },
  {
   "cell_type": "code",
   "execution_count": null,
   "metadata": {},
   "outputs": [],
   "source": [
    "plt.plot(vol['t'], vol['EGT_SEL'])"
   ]
  },
  {
   "cell_type": "markdown",
   "metadata": {},
   "source": [
    "Il est possible de superposer deux graphes en appelant plusieurs points plt.plot(). De plus, plot() peut recevoir une grande quantité d'options pour personnaliser l'aspect de la courbe :\n",
    "\n",
    "- ligne ou points\n",
    "- type de marqueur\n",
    "- couleurs, taille/épaisseur de trait\n",
    "- ...\n",
    "\n",
    "Certaines options peuvent être combinées et exprimées sous forme de chaîne de caractère. Par exemple, 'b^--' signifie \"marqueurs bleus en forme de triangles, reliés par un trait pointillé\"."
   ]
  },
  {
   "cell_type": "code",
   "execution_count": null,
   "metadata": {},
   "outputs": [],
   "source": [
    "plt.plot(vol['t'], vol['EGT_SEL'], 'b--', linewidth=1)\n",
    "plt.plot(vol['t'], vol['T3_SEL'], 'k-')"
   ]
  },
  {
   "cell_type": "code",
   "execution_count": null,
   "metadata": {},
   "outputs": [],
   "source": [
    "\"\"\"\n",
    "EXERCICE - Plot avec titres et légende\n",
    "\n",
    "Explorez la documentation de pyplot pour ajouter au graphe précédent :\n",
    "1. Un titre à la figure\n",
    "2. Des titres aux axes\n",
    "3. Une légende\n",
    "\"\"\"\n"
   ]
  },
  {
   "cell_type": "markdown",
   "metadata": {},
   "source": [
    "### Bar plot : temps passé dans chaque phase de vol avec `plt.bar`\n",
    "\n",
    "Pour afficher un ensemble réduit de valeurs, le diagramme le plus adapté est le bar plot. Tout d'abord, il nous faut calculer le nombre de lignes du vol par phase de vol. La phase de vol est symbolisée par la variable `FLIGHT_MOD`. On suppose la correspondance suivante :\n",
    "\n",
    "`FLIGHT_MOD` | Phase de vol\n",
    "-------------|-------------\n",
    "1 | taxi\n",
    "2 | take_off\n",
    "3 | begin_climb\n",
    "4 | climb\n",
    "5 | cruise_climb\n",
    "6 | cruise\n",
    "7 | descent\n",
    "8 | approach\n",
    "9 | flare\n",
    "10 | landing"
   ]
  },
  {
   "cell_type": "code",
   "execution_count": null,
   "metadata": {},
   "outputs": [],
   "source": [
    "plt.plot(vol['t'], vol['FLIGHT_MOD'], label='FLIGHT_MOD')\n",
    "plt.legend()"
   ]
  },
  {
   "cell_type": "code",
   "execution_count": null,
   "metadata": {},
   "outputs": [],
   "source": [
    "\"\"\"\n",
    "EXERCICE - Correpondance FLIGHT_MOD/phase de vol\n",
    "1. Créez un liste définissant la correspondance FLIGHT_MOD/phase de vol\n",
    "2. Ajoutez une nouvelle colonne 'FLIGHT_PHASE' au DataFrame contenant le nom de la phase. Une possibilité est d'utiliser la méthode \"apply\" et une fonction anonyme (lambda).\n",
    "\"\"\"\n"
   ]
  },
  {
   "cell_type": "code",
   "execution_count": null,
   "metadata": {},
   "outputs": [],
   "source": [
    "\"\"\"\n",
    "EXERCICE - Calcul du nombre de lignes par phase de vol\n",
    "Groupez le DataFrame par phase de vol avec groupby() et aggrégez le résultat avec size().\n",
    "\"\"\"\n"
   ]
  },
  {
   "cell_type": "markdown",
   "metadata": {},
   "source": [
    "Voici enfin notre fameux bar plot :"
   ]
  },
  {
   "cell_type": "code",
   "execution_count": null,
   "metadata": {},
   "outputs": [],
   "source": [
    "plt.figure(figsize=(10,6)) # la méthode figure permet de créer une nouvelle figure et de configurer ses paramètres\n",
    "plt.bar(np.arange(time_by_phase.size), time_by_phase, tick_label=time_by_phase.index.tolist())"
   ]
  },
  {
   "cell_type": "code",
   "execution_count": null,
   "metadata": {},
   "outputs": [],
   "source": [
    "\"\"\"\n",
    "EXERCICE - Affichez la température T25 maximale par phase de vol sur un bar plot de couleur rouge.\n",
    "\"\"\"\n"
   ]
  },
  {
   "cell_type": "markdown",
   "metadata": {},
   "source": [
    "### Pie plot : temps passé dans chaque phase de vol avec `plt.pie`"
   ]
  },
  {
   "cell_type": "code",
   "execution_count": null,
   "metadata": {},
   "outputs": [],
   "source": [
    "plt.figure(figsize=(5,5))\n",
    "plt.pie(time_by_phase, labels=time_by_phase.index.tolist());"
   ]
  },
  {
   "cell_type": "markdown",
   "metadata": {},
   "source": [
    "### Histogramme : représenter la distribution d'une variable\n",
    "\n",
    "La meilleur façon de visualiser la distribution statistique d'une variable est l'histogramme. La méthode s'appelle `plt.hist()`. Étudiez sa documentation, car elle a de nombreux paramètres.\n",
    "\n",
    "Voici un exemple avec la variable N1."
   ]
  },
  {
   "cell_type": "code",
   "execution_count": null,
   "metadata": {},
   "outputs": [],
   "source": [
    "plt.hist(vol['N1_SEL'], bins=30, density=True); # Quel est l'effet de l'argument \"density=...\" ?"
   ]
  },
  {
   "cell_type": "markdown",
   "metadata": {},
   "source": [
    "Beaucoup d'autres types de plots existents ! À vous de les découvrir...\n",
    "\n",
    "## 2. Machine Learning non supervisé pour l'exploration de données avec scikit-learn\n",
    "\n",
    "<img src=\"rc/scikit-learn-logo-small.png\" />\n",
    "\n",
    "Dans cette section, on continue d'explorer le jeu de données à l'aide de techniques classique :\n",
    "\n",
    "* PCA (Principal Component Analysis, https://fr.wikipedia.org/wiki/Analyse_en_composantes_principales) : permet de trouver les composantes principales d'un jeu de données, correspondant aux directions orthogonales de plus grande variabilité des données. Ce directions correspondent aux vecteurs propres de la matrice de corrélation. En pratique, cette technique statistique permet de réduire la dimensionalité des données en les projectant sur les directions principales. En réduisant la dimensionalité à 2, on peut donc visualiser les données sur un plan.\n",
    "\n",
    "<img width=\"300px\" src=\"rc/PCA_fish.png\" />\n",
    "\n",
    "* $k$-means (https://fr.wikipedia.org/wiki/K-moyennes) est l'algorithme le plus répandu de _clustering_. Le clustering consiste à partitionner les données en différents groupes (appelés _clusters_), en maximisant la similarité _intra-cluster_ (entre les points d'un même cluster) et minimisant la similarité _inter-cluster_ (entre les points de clusters différents). Le clustering est aussi appelée classification _non supervisée_ (car on ne dispose pas d'étiquettes pour chaque classe).\n",
    "\n",
    "<img width=\"300px\" src=\"rc/cluster.png\" />\n",
    "\n",
    "Ces deux algorithmes incontournables permettent de décrire nos données et répondre aux questions suivantes :\n",
    "\n",
    "* Quel est la distribution des données dans le plan des 2 première CP (composantes principales) ?\n",
    "* Y a-t-il des groupes distincts dans nos données ?\n"
   ]
  },
  {
   "cell_type": "markdown",
   "metadata": {},
   "source": [
    "#### 2.1. Préparation des données\n",
    "\n",
    "Ces algorithmes requièrent des données numériques. Il faut donc éliminer du jeu de données les variables non numérique ou les transformer en variables numériques.\n",
    "\n",
    "De plus, on essayera dans la suite de classifier les instants du vol par phase de vol en utilisant un algorithme de clustering. On élimine donc également la colonne \"FLIGHT_MOD\" du jeu de données."
   ]
  },
  {
   "cell_type": "code",
   "execution_count": null,
   "metadata": {},
   "outputs": [],
   "source": [
    "\"\"\"\n",
    "EXERCICE - Préparation des données\n",
    "1. Quelles sont les variables non numériques dans les données de vol ?\n",
    "2. Supprimez ces colonnes, ainsi que le FLIGHT_MOD, et créez une variable X_vol contenant les valeurs numériques sous forme d'array numpy (on y accède via la propriété `values`).\n",
    "3. Affichez les dimensions de X_vol (nombre d'individus et de variables).\n",
    "\"\"\"\n"
   ]
  },
  {
   "cell_type": "markdown",
   "metadata": {},
   "source": [
    "Ensuite, il est nécessaire en analyse de données de normaliser nos données, car les différentes variables peuvent avoir des unités et plages de valeurs très différentes les unes des autres. Par exemple, certaines variables varient entre 0 et 1, d'autre, comme les températures, peuvent varier (en gros) de 0 à 1000. Pour pouvoir les rendre comparables, on utilisera la normalisation standard suivante, appelée _standardisation_ :\n",
    "\n",
    "1. Retrait de la moyenne de chaque variable.\n",
    "2. Division par l'écart-type.\n",
    "\n",
    "Cela permet d'obtenir des variables de moyenne nulle et d'écart-type 1. Il existe bien entendu des normalisations bien plus poussées."
   ]
  },
  {
   "cell_type": "code",
   "execution_count": null,
   "metadata": {},
   "outputs": [],
   "source": [
    "\"\"\"\n",
    "EXERCICE - Standardisation\n",
    "1. Normalisez le jeu de donnée X_vol comme expliqué précédemment, et stockez le résultat dans une variable X_vol_norm.\n",
    "   Pour cela, utilisez les méthodes mean() et std() de numpy, en prenant garde à calculer selon les bonnes dimensions.\n",
    "2. Véfifiez à la fin que X_vol_norm a bien une moyenne nulle et un écart-type égal à 1 pour toutes les variables.\n",
    "3. Que renvoie `(X_vol_norm.mean(axis=0) == 0).all()` ? Pourquoi à votre avis ? Pour pailler à ce problème, documentez-vous et utilisez la méthode `np.isclose` de numpy \n",
    "   pour effectuer cette vérification.\n",
    "\"\"\"\n"
   ]
  },
  {
   "cell_type": "markdown",
   "metadata": {},
   "source": [
    "On ne ré-invente pas la roue : scikit-learn propose déjà un ensemble de méthodes de normalisation dans son module de prétraitement, `sklearn.preprocessing`."
   ]
  },
  {
   "cell_type": "code",
   "execution_count": null,
   "metadata": {},
   "outputs": [],
   "source": [
    "from sklearn.preprocessing import StandardScaler\n",
    "X_vol_norm = StandardScaler().fit_transform(X_vol)"
   ]
  },
  {
   "cell_type": "code",
   "execution_count": null,
   "metadata": {},
   "outputs": [],
   "source": [
    "\"\"\"\n",
    "EXERCICE - La résultat est-il bien identique ?\n",
    "\"\"\"\n"
   ]
  },
  {
   "cell_type": "markdown",
   "metadata": {},
   "source": [
    "#### 2.2. PCA"
   ]
  },
  {
   "cell_type": "code",
   "execution_count": null,
   "metadata": {},
   "outputs": [],
   "source": [
    "from sklearn.decomposition import PCA"
   ]
  },
  {
   "cell_type": "code",
   "execution_count": null,
   "metadata": {},
   "outputs": [],
   "source": [
    "vol_pca = PCA(n_components=2).fit(X_vol_norm)"
   ]
  },
  {
   "cell_type": "markdown",
   "metadata": {},
   "source": [
    "#### 2.2.1. Étude de la variance expliquée\n",
    "\n",
    "Le modèle PCA permet d'obtenir la part de variance des données expliquée par les différentes CP. En général, on garde autant de CP que nécessaire pour expliquer au total par exemple 90% ou 95% de la variance des données, afin de limiter la perte d'information. Ici, on en conserve 2 pour des raisons de visualisation."
   ]
  },
  {
   "cell_type": "code",
   "execution_count": null,
   "metadata": {},
   "outputs": [],
   "source": [
    "\"\"\"\n",
    "EXERCICE - Étude de la variance expliquée\n",
    "1. Affichez les parts de variance expliquées par les 2 premières CP à l'aide de la propriété `explained_variance_ratio_` du modèle PCA. Faites varier le nombres de CP (3, 4... 25).\n",
    "   Affichez les résultats en %.\n",
    "2. Quel est le pourcentage de variance expliquée par les 2 premières CP ? Est-il cohérent de ne conserver que ces 2 dimensions ?\n",
    "   Combien de composantes faudrait-il garder pour expliquer 90% de la variance ? 95% ?\n",
    "3. Tracez un bar plot de la variance expliquée par chaque CP, en n'oubliant pas le titre, les noms des axes et les étiquettes sur l'axe des abscisses ('PC1', 'PC2', etc.).\n",
    "   Essayez avec une échelle logarithmique.\n",
    "\"\"\"\n"
   ]
  },
  {
   "cell_type": "markdown",
   "metadata": {},
   "source": [
    "#### 2.2.2. Projection et visualisation\n",
    "\n",
    "À présent, on projette les données sur les 2 premières CP pour les visualiser sur un scatter plot. La projection s'effectue :\n",
    "\n",
    "* par produit matriciel avec les composantes principales, contenues dans l'array `vol_pca.components_`\n",
    "* via la méthode `transform(...)` du modèle PCA"
   ]
  },
  {
   "cell_type": "code",
   "execution_count": null,
   "metadata": {},
   "outputs": [],
   "source": [
    "\"\"\"\n",
    "EXERCICE - Projection et visualisation par PCA.\n",
    "1. Projettez les données sur les 2 premières CP.\n",
    "2. Affichez le résultat sur un scatter plot. Que représente chaque point ? Que représentent les axes ? \n",
    "3. Étant donné que notre jeu de données est une série temporelle, il serait intéressant de visualiser la trajectoire du vol dans le plan de la PCA.\n",
    "   Proposez et mettez en œuvre une solution permettant de visualiser cet aspect temporel sur le scatter plot.\n",
    "   \n",
    "\"\"\"\n"
   ]
  },
  {
   "cell_type": "markdown",
   "metadata": {},
   "source": [
    "Ressource utile : les color maps matplotlib https://matplotlib.org/users/colormaps.html"
   ]
  },
  {
   "cell_type": "code",
   "execution_count": null,
   "metadata": {},
   "outputs": [],
   "source": [
    "\"\"\"\n",
    "EXERCICE - Projection et visualisation par PCA avec affichage de la phase de vol.\n",
    "Complétez le code matplotlib suivant afin de de colorer les points par phase de vol, avec une légende.\n",
    "\"\"\"\n",
    "plt.figure(figsize=(10,10))\n",
    "for phase in phases:\n",
    "    data = ...\n",
    "    plt.scatter(data[:, 0], data[:, 1], label=phase)\n",
    "plt.legend()\n",
    "plt.xlabel('PC1')\n",
    "plt.ylabel('PC2')\n",
    "plt.title('Projection PCA du vol avec phases de vol')"
   ]
  },
  {
   "cell_type": "markdown",
   "metadata": {},
   "source": [
    "#### 2.3. $k$-means\n",
    "\n",
    "L'algorithme $k$-means est disponible dans le module `sklearn.clustering`, au côté d'autres algorithmes de clustering. "
   ]
  },
  {
   "cell_type": "code",
   "execution_count": null,
   "metadata": {},
   "outputs": [],
   "source": [
    "from sklearn.cluster import KMeans"
   ]
  },
  {
   "cell_type": "markdown",
   "metadata": {},
   "source": [
    "#### 2.3.1. Apprentissage et visualisation des résultats"
   ]
  },
  {
   "cell_type": "code",
   "execution_count": null,
   "metadata": {},
   "outputs": [],
   "source": [
    "\"\"\"\n",
    "EXERCICE - k-means clustering\n",
    "1. Instanciez un modèle k-means avec 10 centroïdes.\n",
    "2. Apprenez le modèle sur le jeu de données `X_vol_norm` et récupérez les étiquettes des clusters via la méthode de prédiction.\n",
    "3. Créez une figure composée de 2 graphiques.\n",
    "   3.1. Sur le graphique 1, affichez le nombre d'éléments par cluster sur un bar plot (indice : la méthode `bincount` de nummy évitera d'écrire une boucle).\n",
    "   3.2. SUr le graphique 2, affichez un scatter plot de la projection PCA en colorant les points par cluster.\n",
    "4. Interprétez le résultat. Peut-on établir une correspondance entre les clusters trouvés par k-means et les phases de vol ?\n",
    "\"\"\"\n"
   ]
  },
  {
   "cell_type": "markdown",
   "metadata": {},
   "source": [
    "#### 2.3.2. Calcul de la pureté du clustering\n",
    "\n",
    "On souhaite maintenant répondre plus en détail à la question :\n",
    "    \n",
    "> Peut-on établir une correspondance entre les clusters trouvés par k-means et les phases de vol ?\n",
    "\n",
    "On commence par évaluer la capacité de notre modèle à trouver des clusters **homogènes par rapport à une variable cible**. Ici, notre variable cible sera la phase de vol. On cherche donc à mesurer si les clusters contiennent des points appartenant à une même phase de vol. Pour cela, on utilise un **indice de qualité de clustering** appelé **pureté** (_purity_). \n",
    "\n",
    "La pureté se calcule de la manière suivante :\n",
    "\n",
    "1. On associe à tous les points d'un cluster la classe (i.e. la variable cible) la plus fréquente au sein de ce cluster.\n",
    "2. On divise le nombre de points correctement associés à leur cluster par le nombre total de points.\n",
    "\n",
    "Pour un partitionnement $\\mathbf{Q} = \\{Q_k\\}, k = 1 \\ldots K$ et en notant $\\mathbf{Y} = \\{Y_j\\}, j = 1 \\ldots C$ l'ensemble des points appartenant à chaque classe, on a :\n",
    "\\begin{equation}\n",
    "    purity(\\mathbf{Q}, \\mathbf{Y}) = \\frac{1}{N} \\sum_{k=1}^K \\underset{j = 1 \\ldots C}{\\max} |Q_k \\cap Y_j|\n",
    "\\end{equation}"
   ]
  },
  {
   "cell_type": "code",
   "execution_count": null,
   "metadata": {},
   "outputs": [],
   "source": [
    "\"\"\"\n",
    "EXERCICE - Calcul de la pureté\n",
    "1. Implémentez une fonction calculant la pureté d'un clustering à partir des labels et des valeurs de la variable cible. \n",
    "2. Quelle la pureté du modèle avec 10 clusters ?\n",
    "\"\"\"\n",
    "def cluster_purity(labels, targets):\n",
    "    raise NotImplementedError\n",
    "\n",
    "pur = cluster_purity(...)\n",
    "print('Pureté : {:f} %'.format(pur*100))"
   ]
  },
  {
   "cell_type": "code",
   "execution_count": null,
   "metadata": {},
   "outputs": [],
   "source": [
    "\"\"\"\n",
    "EXERCICE - Effet du nombre de clusters sur la pureté\n",
    "1. Faites varier le nombre de clusters de k-means. Quel est l'effet sur la pureté ?\n",
    "2. Tracez la pureté en fonction du nombre de clusters pour quelques valeurs de ce nombre (par exemple K=1, 2, 3, 5, 10, 20, 30, 50).\n",
    "3. Quelle est, à votre avis, la \"meilleure\" valeur de K ? Que peut-on en conclure ?\n",
    "\"\"\"\n"
   ]
  },
  {
   "cell_type": "markdown",
   "metadata": {},
   "source": [
    "#### 2.3.3. Calcul de la précision de classification non supervisée (_unsupervised clustering accuracy_)\n",
    "\n",
    "Enfin, on souhaite évaluer la performance de notre modèle en tant que classificateur.\n",
    "\n",
    "**Note** : cette approche n'a de sens que si le nombre de clusters est égal au nombre de classes de la variable cible !\n",
    "\n",
    "Pour ce faire, nous allons passer par une métrique appelée **unsupervised clustering accuracy**. Celle-ci correspond à la précision de classification (i.e. proportion de points correctement classifiés), mais dans un cadre non supervisé. Cette métrique mesure la capacité à partitionner les données selon les différentes modalités d'une variable cible. La question est donc de mesurer la capacité du modèle $k$-means à partitionner les données selon la phase de vol.\n",
    "\n",
    "Cette métrique s'écrit :\n",
    "\\begin{equation}\n",
    "    acc(\\mathbf{Q}, \\mathbf{Y}) = \\frac{1}{N} \\underset{m}\\max \\sum_{k=1}^K |Q_k \\cap Y_{m(k)}|\n",
    "\\end{equation}\n",
    "\n",
    "où on cherche la meilleure association $m$ (_mapping_) deux à deux entre clusters et classes (dans notre cas, l'association entre Cluster 0, Cluster 1, etc. et les phases de vol taxi, take_off, etc.).\n",
    "\n",
    "Pour calculer cette meilleur association, un algorithme efficace est la _méthode Hongroise_ ou algorithme de Kuhn-Munkres. Celui-ci est disponible dans le module de scipy `scipy.optimize.linear_sum_assignment`."
   ]
  },
  {
   "cell_type": "code",
   "execution_count": null,
   "metadata": {},
   "outputs": [],
   "source": [
    "from scipy.optimize import linear_sum_assignment"
   ]
  },
  {
   "cell_type": "code",
   "execution_count": null,
   "metadata": {},
   "outputs": [],
   "source": [
    "def cluster_acc(labels, targets):\n",
    "    assert labels.size == targets.size\n",
    "    D = max(labels.max(), targets.max()) + 1\n",
    "    w = np.zeros((D, D))\n",
    "    for i in range(labels.size):\n",
    "        w[labels[i], targets[i]] += 1\n",
    "    row_ind, col_ind = linear_sum_assignment(w.max() - w)\n",
    "    return w[row_ind, col_ind].sum() * 1.0 / labels.size\n",
    "\n",
    "acc = cluster_acc(labels, vol['FLIGHT_MOD'])\n",
    "print('Accuracy : {:f} %'.format(acc*100))"
   ]
  }
 ],
 "metadata": {
  "kernelspec": {
   "display_name": "Python 3",
   "language": "python",
   "name": "python3"
  },
  "language_info": {
   "codemirror_mode": {
    "name": "ipython",
    "version": 3
   },
   "file_extension": ".py",
   "mimetype": "text/x-python",
   "name": "python",
   "nbconvert_exporter": "python",
   "pygments_lexer": "ipython3",
   "version": "3.5.2"
  }
 },
 "nbformat": 4,
 "nbformat_minor": 4
}
