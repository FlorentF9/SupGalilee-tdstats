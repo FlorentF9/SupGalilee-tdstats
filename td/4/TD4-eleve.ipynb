{
 "cells": [
  {
   "cell_type": "markdown",
   "metadata": {},
   "source": [
    "# TD 4 | Étude des vibrations des aubes d'un rouet de compresseur d'un turbofan\n",
    "\n",
    "Florent FOREST\n",
    "\n",
    "forest@lipn.univ-paris13.fr\n",
    "\n",
    "---\n",
    "\n",
    "Objectifs du TD :\n",
    "\n",
    "* pratiquer sur un use case concret d'analyse statistique de données de production aéronautiques\n",
    "* PCA\n",
    "* tests statistiques et coefficients de corrélation\n",
    "\n",
    "---"
   ]
  },
  {
   "cell_type": "markdown",
   "metadata": {},
   "source": [
    "## Présentation du problème"
   ]
  },
  {
   "cell_type": "markdown",
   "metadata": {},
   "source": [
    "On considère le **rouet de compresseur** de la **turbine à gaz d'un turbopropulseur** d'hélicoptère. Celui-ci est constitué de 13 **aubes**.\n",
    "\n",
    "<img src=\"rc/turbo-helico.png\" />\n",
    "\n",
    "<img src=\"rc/compresseur.png\" /> <img src=\"rc/compresseur-2.png\" />\n",
    "\n",
    "En production, après la fabrication et montage de la pièce, on mesure les vibrations des aubes grâce à une technique appelée **tip-timing**. Cette technique consiste à mesurer la position d'une aube en rotation par rapport à sa position au repos. En effet, les vibrations dues à la rotation entraînent un **décalage de la position des aubes** (voir schéma ci-dessous). \n",
    "\n",
    "<img src=\"rc/tiptiming.png\"/>\n",
    "\n",
    "La mesure de ce déplacement maximal à un régime (vitesse de rotation) donné permet de déduire le niveau vibratoire de chacune des aubes. Voici les résultats obtenus pour chacune des 13 aubes :\n",
    "\n",
    "<img src=\"rc/vibrations.png\" />"
   ]
  },
  {
   "cell_type": "markdown",
   "metadata": {},
   "source": [
    "<div style=\"color: #bb1111; font-size: 16px; background-color: #ffeeee; padding: 20px; border-radius: 15px\">\n",
    "    <p><b>Problème :</b> on observe un niveau de vibrations anormal pour l'aube numérotée 11 dans le tableau ci-dessus (déplacement maximal de 0.99 mm). Cependant, il est impossible d'identifier de manière certaine cette aube, car l'aube n°1 n'est pas identifiée : il peut y avoir un décalage circulaire des mesures. On sait seulement qu'une aube vibre davantage que les autres. Comment peut-on identifier cette aube afin de la remplacer ?</p>\n",
    "</div>"
   ]
  },
  {
   "cell_type": "markdown",
   "metadata": {},
   "source": [
    "## Présentation des données"
   ]
  },
  {
   "cell_type": "markdown",
   "metadata": {},
   "source": [
    "<div style=\"color: #1111bb; font-size: 16px; background-color: #eeeeff; padding: 20px; border-radius: 15px\">\n",
    "    <p>On dispose de données de production sur les aubes de ce compresseur !</p>\n",
    "</div>"
   ]
  },
  {
   "cell_type": "markdown",
   "metadata": {},
   "source": [
    "Durant la production, de nombreuses caractéristiques géométriques de chaque aube sont mesurées. Ces données géométriques sont les suivantes :\n",
    "\n",
    "* 17 variables géométriques concernant la forme (bord d'attaque BA, bord de fuite BF, etc.) de l'aube\n",
    "* 94 variables d'épaisseurs mesurées à différents points de l'aube\n",
    "\n",
    "soit un total de 111 variables mesurées par aube. Ces données se trouvent dans le fichier `Rouet_geometries.csv` (voir figures ci-dessous).\n",
    "\n",
    "<img src=\"rc/geometries.png\" />\n",
    "<img src=\"rc/epaisseurs.png\" />"
   ]
  },
  {
   "cell_type": "markdown",
   "metadata": {},
   "source": [
    "Enfin, les données de vibrations issues du tip-timing se trouvent dans le fichier `Rouet_vibrations.csv`.\n",
    "\n",
    "<img src=\"rc/vibrations.png\" />"
   ]
  },
  {
   "cell_type": "markdown",
   "metadata": {},
   "source": [
    "<div style=\"color: #1111bb; font-size: 16px; background-color: #eeeeff; padding: 20px; border-radius: 15px\">\n",
    "    <p><b>Attention :</b> Les numérotations des aubes dans les données géométriques et les résultats du tip-timing ne sont pas les mêmes (permutation circulaire) !</p>\n",
    "</div>"
   ]
  },
  {
   "cell_type": "markdown",
   "metadata": {},
   "source": [
    "## 1. Chargement et préparation des données\n",
    "\n",
    "### 1.1 Lecture des données\n",
    "\n",
    "Charger les deux jeux de données, géométries (`./data/Rouet_geometries.csv`) et vibrations (`./data/Rouet_vibrations.csv`), dans des DataFrames pandas. Il sera nécessaire de prêter attention au format des fichier (header, séparateur de colonnes, typage des colonnes, etc.).\n",
    "\n",
    "**Indice** : l'encodage des fichier CSV n'est pas UTF-8, il faudra donc préciser l'option `encoding='latin'` à la fonction `pandas.read_csv`."
   ]
  },
  {
   "cell_type": "code",
   "execution_count": null,
   "metadata": {},
   "outputs": [],
   "source": [
    "!git clone https://github.com/FlorentF9/SupGalilee-tdstats.git"
   ]
  },
  {
   "cell_type": "code",
   "execution_count": null,
   "metadata": {},
   "outputs": [],
   "source": [
    "import os\n",
    "os.chdir('SupGalilee-tdstats')"
   ]
  },
  {
   "cell_type": "code",
   "execution_count": null,
   "metadata": {},
   "outputs": [],
   "source": [
    "import pandas as pd\n",
    "import numpy as np"
   ]
  },
  {
   "cell_type": "code",
   "execution_count": null,
   "metadata": {},
   "outputs": [],
   "source": [
    "geometries = ..."
   ]
  },
  {
   "cell_type": "code",
   "execution_count": null,
   "metadata": {},
   "outputs": [],
   "source": [
    "vibrations = ..."
   ]
  },
  {
   "cell_type": "markdown",
   "metadata": {},
   "source": [
    "### 1.2 Standardisez les variables géométriques afin d'obtenir des variables centrées (moyenne 0) et réduites (variance 1)."
   ]
  },
  {
   "cell_type": "code",
   "execution_count": null,
   "metadata": {},
   "outputs": [],
   "source": []
  },
  {
   "cell_type": "markdown",
   "metadata": {},
   "source": [
    "## 2. Analyse exploratoire des données\n",
    "\n",
    "### 2.1 Affichez le niveau vibratoire de chaque aube sur un bar plot"
   ]
  },
  {
   "cell_type": "code",
   "execution_count": null,
   "metadata": {},
   "outputs": [],
   "source": [
    "import matplotlib.pyplot as plt"
   ]
  },
  {
   "cell_type": "code",
   "execution_count": null,
   "metadata": {},
   "outputs": [],
   "source": []
  },
  {
   "cell_type": "markdown",
   "metadata": {},
   "source": [
    "### 2.2 Analyse par ACP de l'importance des variables géométriques\n",
    "\n",
    "On dispose d'un grand nombre de variables géométriques (111 variables). On souhaite déterminer quelles sont les variables géométriques importantes en analysant leurs poids dans les composantes principales du jeu de données.\n",
    "\n",
    "#### 2.2.1 Effectuez une ACP sur le jeu de données géométriques, puis calculez et visualisez la part de variance expliquée par chaque composante principale. Interprétez le résultat. Quelle part de variance est expliquée par les 2 premières CP ?"
   ]
  },
  {
   "cell_type": "code",
   "execution_count": null,
   "metadata": {},
   "outputs": [],
   "source": [
    "from sklearn.decomposition import PCA"
   ]
  },
  {
   "cell_type": "code",
   "execution_count": null,
   "metadata": {},
   "outputs": [],
   "source": []
  },
  {
   "cell_type": "markdown",
   "metadata": {},
   "source": [
    "Une technique très courante pour analyser l'importance des variables est de visualiser leurs poids dans le plan des 2 premières composantes principales."
   ]
  },
  {
   "cell_type": "markdown",
   "metadata": {},
   "source": [
    "#### 2.2.2 Visualisez le poids des variables géométriques dans le plan (PC1, PC2)\n",
    "\n",
    "**Indice 1 :** utilisez pour cela les composantes des vecteurs principaux de la matrice `pca.components_`.\n",
    "\n",
    "**Indice 2 :** Afin d'obtenir une graphique avec une bonne échelle entre -1 et 1, il est nécessaire d'appliquer aux poids de chaque composante principale un facteur d'échelle égal à $\\sqrt{\\text{variance expliquée}}$.\n",
    "\n",
    "Voici le type de graphique, appelé _PCA factor loadings plot_ en anglais, que vous devriez obtenir :\n",
    "\n",
    "<img src=\"rc/pca-plot.png\" height=500px width=500px />"
   ]
  },
  {
   "cell_type": "code",
   "execution_count": null,
   "metadata": {},
   "outputs": [],
   "source": []
  },
  {
   "cell_type": "markdown",
   "metadata": {},
   "source": [
    "#### 2.2.3 Interprétez le graphique précédent. Quelles sont les variables géométriques les plus importantes ?"
   ]
  },
  {
   "cell_type": "markdown",
   "metadata": {},
   "source": [
    "Les variables d'épaisseurs (numérotées de 1 à 94) sont toutes situées dans la partie la plus à droite du plan des composantes principales. Elles ont donc un poids très important sur la PC1, beaucoup plus que les autres variables géométriques. Étant donné que la PC1 représente presque 80% de la variance, on peut en conclure que les variables d'épaisseurs sont les plus importantes."
   ]
  },
  {
   "cell_type": "markdown",
   "metadata": {},
   "source": [
    "## 3. Identification de l'aube anormale par analyse des corrélations\n",
    "\n",
    "Suite aux analyses précédentes, on décide de se focaliser sur les variables géométriques correspondant aux épaisseurs de l'aube (variables 1-94). Par ailleurs, les experts mécaniciens nous ont informés que les vibrations étaient corrélées à l'épaisseur de l'aube en différentes points. Par conséquent, nous pouvons décrire les données géométriques en utilisant **seulement la première composante principale** : on se ramène donc à un cas **univarié**, avec une seule variable $\\text{PC1}$ (projection sur la première composante principale).\n",
    "\n",
    "**Objectif :** trouver la permutation circulaire des numérotations d'aubes qui **maximise** la corrélation entre vibrations et épaisseurs des aubes, afin d'identifier l'aube défectueuse.\n",
    "\n",
    "Voici 3 coefficients de corrélation usuels permettant de mesurer l'association de deux variables (ici, $X =\\text{PC1} $ et $Y = \\text{vibration}$) :\n",
    "\n",
    "Coefficient de corrélation | formule | lien wikipédia\n",
    "---------------------------|----------|---------------\n",
    "Corrélation de Pearson     | $\\rho(X, Y) = \\frac{\\text{Cov}(X, Y)}{\\sigma_X \\sigma_Y}$ | https://fr.wikipedia.org/wiki/Corr%C3%A9lation_(statistiques)\n",
    "Corrélation de Spearman    | $\\rho_S(X, Y) = \\frac{\\text{Cov}(\\text{rank}(X), \\text{rank}(Y))}{\\sigma_{\\text{rank}_X} \\sigma_{\\text{rank}(Y)}}$ | https://fr.wikipedia.org/wiki/Corr%C3%A9lation_de_Spearman\n",
    "Corrélation de Kendall     | $\\tau(X, Y) = \\frac{2\\sum_{i<j}\\text{sign}(x_j-x_i)\\text{sign}(y_j-y_i)}{N(N-1)}$ | https://fr.wikipedia.org/wiki/Tau_de_Kendall\n"
   ]
  },
  {
   "cell_type": "markdown",
   "metadata": {},
   "source": [
    "### 3.1 Quel(s) coefficient(s) vous semble(nt) adapté(s) pour analyser les corrélations entre nos variables ?"
   ]
  },
  {
   "cell_type": "markdown",
   "metadata": {},
   "source": []
  },
  {
   "cell_type": "markdown",
   "metadata": {},
   "source": [
    "### 3.2 Calculez les corrélations pour les 12 décalages circulaires possibles entre les données géométriques et les vibrations. Visualisez-les sur un graphique.\n",
    "\n",
    "**Indice :** on peut facilement obtenir une permuation circulaire d'un jeu de données à l'aide de la fonction `numpy.roll(...)`."
   ]
  },
  {
   "cell_type": "markdown",
   "metadata": {},
   "source": [
    "<div style=\"color: #1111bb; font-size: 16px; background-color: #eeeeff; padding: 20px; border-radius: 15px\">\n",
    "    <p><b>Rappel :</b> On n'utilise que la PC1 des variables géométriques !</p>\n",
    "</div>"
   ]
  },
  {
   "cell_type": "markdown",
   "metadata": {},
   "source": [
    "Il est recommandé de calculer les _$p$-values_ associées au coefficient de corrélation choisi. Ces valeurs permettent de déterminer si les corrélations trouvées sont **significatives ou non**. La $p$-value est associée aux deux hypothèses statistiques suivantes :\n",
    "\n",
    "* $\\mathcal{H}_0$ : les variables X et Y sont indépendantes (pas de corrélation)\n",
    "* $\\mathcal{H}_1$ : les variables X et Y sont dépendantes (corrélation)\n",
    "\n",
    "La $p$-value correspond à la **probabilité de se tromper en rejetant l'hypothèse null $\\mathcal{H}_0$**. On fait généralement le choix de rejeter l'hypothèse nulle lorsque $p$-value < 0.05, i.e. moins de 5% de chances de se tromper."
   ]
  },
  {
   "cell_type": "code",
   "execution_count": null,
   "metadata": {},
   "outputs": [],
   "source": [
    "import math\n",
    "def kendall_tau(x, y):\n",
    "    \"\"\"Compute Kendall's tau correlation\n",
    "    \n",
    "    Arguments\n",
    "        xs : float array (n)\n",
    "            input variable 1\n",
    "        ys : float array (n)\n",
    "        input variable 2\n",
    "        \n",
    "    Returns\n",
    "        tau : float in [-1, 1]\n",
    "            correlation coefficient\n",
    "        pvalue : float\n",
    "            p-value\n",
    "    \"\"\"\n",
    "    assert x.size == y.size\n",
    "    size = x.size\n",
    "    \n",
    "    tot = (size * (size-1)) // 2\n",
    "    s = np.array([np.sign(x[j] - x[i]) * np.sign(y[j] - y[i]) for j in range(size) for i in range(j)])\n",
    "    tau = np.sum(s) / tot\n",
    "    \n",
    "    dis = np.sum(s < 0)  # number of discordant pairs\n",
    "    # Exact p-value, see Maurice G. Kendall, \"Rank Correlation Methods\" (4th Edition), Charles Griffin & Co., 1970.\n",
    "    c = min(dis, tot-dis)\n",
    "    if size <= 0:\n",
    "        raise ValueError\n",
    "    elif c < 0 or 2*c > size*(size-1):\n",
    "        raise ValueError\n",
    "    elif size == 1:\n",
    "        pvalue = 1.0\n",
    "    elif size == 2:\n",
    "        pvalue = 1.0\n",
    "    elif c == 0:\n",
    "        pvalue = 2.0/math.factorial(size) if size < 171 else 0.0\n",
    "    elif c == 1:\n",
    "        pvalue = 2.0/math.factorial(size-1) if (size-1) < 171 else 0.0\n",
    "    else:\n",
    "        new = [0.0]*(c+1)\n",
    "        new[0] = 1.0\n",
    "        new[1] = 1.0\n",
    "        for j in range(3,size+1):\n",
    "            old = new[:]\n",
    "            for k in range(1,min(j,c+1)):\n",
    "                new[k] += new[k-1]\n",
    "            for k in range(j,c+1):\n",
    "                new[k] += new[k-1] - old[k-j]\n",
    "        pvalue = 2.0*sum(new)/math.factorial(size) if size < 171 else 0.0\n",
    "        \n",
    "    return tau, pvalue"
   ]
  },
  {
   "cell_type": "code",
   "execution_count": null,
   "metadata": {},
   "outputs": [],
   "source": []
  },
  {
   "cell_type": "markdown",
   "metadata": {},
   "source": [
    "### 3.3 Quel est le décalage circulaire qui maximise la corrélation ? (il peut éventuellement en y avoir plusieurs) Peut-on en déduire l'aube anormale ?"
   ]
  },
  {
   "cell_type": "markdown",
   "metadata": {},
   "source": []
  },
  {
   "cell_type": "markdown",
   "metadata": {},
   "source": [
    "### 3.4 L'analyse de la PC1 ne s'est pas révélée suffisante, une analyse plus fine est nécessaire. Calculez, pour chaque décalage circulaire de la numérotation des aubes, les corrélations entre toutes les variables d'épaisseur (94 variables) et le niveau vibratoire. Concluez sur l'identité de l'aube défaillante, ainsi que sur la zone précise du défaut."
   ]
  },
  {
   "cell_type": "code",
   "execution_count": null,
   "metadata": {},
   "outputs": [],
   "source": []
  }
 ],
 "metadata": {
  "kernelspec": {
   "display_name": "Python 3",
   "language": "python",
   "name": "python3"
  },
  "language_info": {
   "codemirror_mode": {
    "name": "ipython",
    "version": 3
   },
   "file_extension": ".py",
   "mimetype": "text/x-python",
   "name": "python",
   "nbconvert_exporter": "python",
   "pygments_lexer": "ipython3",
   "version": "3.5.2"
  }
 },
 "nbformat": 4,
 "nbformat_minor": 4
}
