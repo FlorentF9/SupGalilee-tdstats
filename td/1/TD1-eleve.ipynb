{
 "cells": [
  {
   "cell_type": "markdown",
   "metadata": {},
   "source": [
    "# TD 1 | Introduction à Python pour l'analyse de données\n",
    "\n",
    "Florent FOREST\n",
    "\n",
    "forest@lipn.univ-paris13.fr\n",
    "\n",
    "---\n",
    "\n",
    "Objectifs du TD :\n",
    "\n",
    "* découvrir Python\n",
    "* se familiariser avec le langage et le notebook Jupyter\n",
    "* découvrir et maîtriser les bases des librairies de calcul numérique et d'analyse de données numpy et pandas\n",
    "\n",
    "---"
   ]
  },
  {
   "cell_type": "markdown",
   "metadata": {},
   "source": [
    "## Python\n",
    "\n",
    "<img height=\"200px\" src=\"rc/python-logo.png\" />\n",
    "\n",
    "**Quick facts**\n",
    "* Langage généraliste \"à tout faire\" $\\rightarrow$ scripts, applications diverses, serveurs...\n",
    "* Associable à d'autres langages (_\"glue language\"_) $\\rightarrow$ plugins\n",
    "* Milliers de librairies (appelées **modules**) disponibles pour à peu près n'importe quelle application\n",
    "* Langage le plus utilisé pour l'analyse de données et l'apprentissage (aux côté de R, Matlab, Scala...)\n",
    "* Immense communauté\n",
    "* Multi-paradigme : impératif, orienté objet, fonctionnel\n",
    "* Portable/multi-plateforme\n",
    "* **FACILE** (à définir)\n",
    "* Fortement typé\n",
    "* Dynamiquement typé\n",
    "* Semi-interprété (compilation à la volée en bytecode\n",
    "\n",
    "**Quelques défauts**\n",
    "\n",
    "Performance médiocre par rapport à C/C++, Java, Scala etc (interprété), typage dynamique ($\\rightarrow$ erreurs à l'exécution), pas le plus adapté au déploiement en production.\n",
    "\n",
    "**2 versions principalement utilisées** : **2.7** et **3** (surtout 3.5, 3.6 et récemment 3.7).\n",
    "\n",
    "**Installation**\n",
    "\n",
    "* Linux : préinstallé sur la quasi-totalité des distributions.\n",
    "* Mac OS : ?\n",
    "* Windows : installer manuellement (voir la suite).\n",
    "\n",
    "**Les 3 façons classiques d'utiliser Python :**\n",
    "\n",
    "* Interpréteur Python ou IPython\n",
    "* Exécution d'un script Python (`fichier.py`) contenant une méthode \"main\"\n",
    "* Notebook Jupyter*\n",
    "\n",
    "**Installer des packages Python**\n",
    "\n",
    "Gestionnaires de paquets :\n",
    "\n",
    "* pip\n",
    "* conda\n",
    "\n",
    "**Distributions scientifiques Python**\n",
    "\n",
    "Il existe des distributions de Python intégrant par défaut un (très) grand nombre de librairies utiles pour le calcul scientifique et l'analyse de données.\n",
    "\n",
    "Ex : Anaconda\n",
    "\n",
    "<img height=\"200px\" src=\"rc/logo-anaconda.png\" />\n",
    "\n",
    "**Principaux IDE**\n",
    "\n",
    "* Spyder\n",
    "* PyCharm\n",
    "* autres éditeurs de code avec extensions Python (vim, emacs, sublime text, VS code...)\n",
    "\n",
    "*Jupyter = Julia + Python + R\n"
   ]
  },
  {
   "cell_type": "markdown",
   "metadata": {},
   "source": [
    "## Installation\n",
    "\n",
    "### Linux\n",
    "\n",
    "**Choix : utilisation de Python 3, installation manuelle de juptyer et des paquets avec pip**\n",
    "\n",
    "Vérifier votre version de Python :\n",
    "\n",
    "```shell\n",
    "$ python --version\n",
    "$ python3 --version\n",
    "```\n",
    "\n",
    "Vérifier que la commande `pip3` est installée. Sinon, l'installer (exemple pour Debian/Ubuntu/Linux Mint, à adapter selon votre distribution) :\n",
    "\n",
    "```shell\n",
    "$ sudo apt install python3-pip\n",
    "```\n",
    "\n",
    "Ensuite, installez les paquets suivants que nous utiliserons lors de ce cours:\n",
    "\n",
    "```shell\n",
    "$ pip3 install -U jupyterlab numpy pandas matplotlib sklearn xlrd\n",
    "```\n",
    "\n",
    "Ensuite, placez-vous dans votre dossier de travail et lancez un notebook :\n",
    "\n",
    "```shell\n",
    "$ jupyter-lab\n",
    "```\n",
    "\n",
    "### Mac OS\n",
    "\n",
    "Les étapes devraient être les mêmes que sous Linux.\n",
    "\n",
    "### Windows\n",
    "\n",
    "**Choix** : La solution la plus simple est d'installer Anaconda, une distribution de Python pour l'analyse de données, constituée de :\n",
    "\n",
    "* Python 3.7\n",
    "* de très nombreux packages Python\n",
    "* Jupyter (notebook)\n",
    "* Spyder (IDE pour Python)\n",
    "* divers autres outils\n",
    "\n",
    "Lien : https://www.anaconda.com/download/ (téléchargement lourd)\n",
    "\n",
    "Installation clic-bouton. Ensuite, ouvrez un terminal (`cmd`), déplacez-vous dans votre dossier de travail avec `cd` et lancez un notebook avec la commande :\n",
    "\n",
    "```\n",
    "> jupyter notebook\n",
    "```\n",
    "\n",
    "Il est aussi possible d'utiliser Anaconda sous Linux/Mac OS mais cela installe énormément de paquets inutiles. Il est préférable de gérer ses paquets manuellement avee pip ou conda.\n",
    "\n",
    "#### Ouvrez le notebook TD1-eleve.ipynb, et c'est parti !"
   ]
  },
  {
   "cell_type": "markdown",
   "metadata": {},
   "source": [
    "## Découverte (ou rappel) de la syntaxe de base"
   ]
  },
  {
   "cell_type": "markdown",
   "metadata": {},
   "source": [
    "### Variables, structures de contrôle"
   ]
  },
  {
   "cell_type": "code",
   "execution_count": null,
   "metadata": {},
   "outputs": [],
   "source": [
    "a = 33\n",
    "b = 9\n",
    "print(a+b)"
   ]
  },
  {
   "cell_type": "code",
   "execution_count": null,
   "metadata": {},
   "outputs": [],
   "source": [
    "a\n",
    "a+b"
   ]
  },
  {
   "cell_type": "code",
   "execution_count": null,
   "metadata": {},
   "outputs": [],
   "source": [
    "type(a)"
   ]
  },
  {
   "cell_type": "code",
   "execution_count": null,
   "metadata": {},
   "outputs": [],
   "source": [
    "a = 'hello'\n",
    "type(a)"
   ]
  },
  {
   "cell_type": "code",
   "execution_count": null,
   "metadata": {},
   "outputs": [],
   "source": [
    "# Affiche les entiers pairs de 1 à 10\n",
    "for i in range(1, 11):\n",
    "    if i % 2 == 0:\n",
    "        print(i)"
   ]
  },
  {
   "cell_type": "markdown",
   "metadata": {},
   "source": [
    "### Listes"
   ]
  },
  {
   "cell_type": "code",
   "execution_count": null,
   "metadata": {},
   "outputs": [],
   "source": [
    "l = [1, 'un', 2]\n",
    "l.append('deux')\n",
    "l += [3, 'trois']\n",
    "print(type(l))\n",
    "l"
   ]
  },
  {
   "cell_type": "code",
   "execution_count": null,
   "metadata": {},
   "outputs": [],
   "source": [
    "a = l[3], l[-1]\n",
    "print(type(a))\n",
    "a"
   ]
  },
  {
   "cell_type": "code",
   "execution_count": null,
   "metadata": {},
   "outputs": [],
   "source": [
    "a[0]"
   ]
  },
  {
   "cell_type": "code",
   "execution_count": null,
   "metadata": {},
   "outputs": [],
   "source": [
    "[2**p for p in range(10)] # \"Compréhension de liste\""
   ]
  },
  {
   "cell_type": "markdown",
   "metadata": {},
   "source": [
    "### Les générateurs"
   ]
  },
  {
   "cell_type": "code",
   "execution_count": null,
   "metadata": {},
   "outputs": [],
   "source": [
    "generateur = (x**2 for x in range(100) if x % 2 != 0)\n",
    "print(generateur)"
   ]
  },
  {
   "cell_type": "code",
   "execution_count": null,
   "metadata": {},
   "outputs": [],
   "source": [
    "next(generateur)"
   ]
  },
  {
   "cell_type": "code",
   "execution_count": null,
   "metadata": {},
   "outputs": [],
   "source": [
    "list(generateur)"
   ]
  },
  {
   "cell_type": "code",
   "execution_count": null,
   "metadata": {},
   "outputs": [],
   "source": [
    "generateur[5]"
   ]
  },
  {
   "cell_type": "code",
   "execution_count": null,
   "metadata": {},
   "outputs": [],
   "source": [
    "limit = 10\n",
    "for _ in range(limit):\n",
    "    print(next(generateur))"
   ]
  },
  {
   "cell_type": "code",
   "execution_count": null,
   "metadata": {},
   "outputs": [],
   "source": [
    "stop = 169\n",
    "for z in generateur:\n",
    "    if z != stop:\n",
    "        print(z)\n",
    "    else:\n",
    "        break"
   ]
  },
  {
   "cell_type": "markdown",
   "metadata": {},
   "source": [
    "### Les fonctions"
   ]
  },
  {
   "cell_type": "code",
   "execution_count": null,
   "metadata": {},
   "outputs": [],
   "source": [
    "def fact(n):\n",
    "    if n == 0:\n",
    "        return 1\n",
    "    else:\n",
    "        return n*fact(n-1)\n",
    "\n",
    "def fact2(n):\n",
    "    return 1 if n == 0 else n*fact(n-1)"
   ]
  },
  {
   "cell_type": "code",
   "execution_count": null,
   "metadata": {},
   "outputs": [],
   "source": [
    "print(fact(5))\n",
    "fact(5) == fact2(5)"
   ]
  },
  {
   "cell_type": "markdown",
   "metadata": {},
   "source": [
    "### Les dictionnaires"
   ]
  },
  {
   "cell_type": "code",
   "execution_count": null,
   "metadata": {},
   "outputs": [],
   "source": [
    "# 1ère façon de créer un dictionnaire\n",
    "dic = {\"key1\": \"value1\", \"answer\": 42}\n",
    "# 2ème façon de créer un dictionnaire\n",
    "dic2 = dict(key1=\"value1\", answer=42)\n",
    "print(dic)\n",
    "print(dic2)\n",
    "dic[\"answer\"]\n"
   ]
  },
  {
   "cell_type": "code",
   "execution_count": null,
   "metadata": {},
   "outputs": [],
   "source": [
    "dic['new'] = [1,2,3]"
   ]
  },
  {
   "cell_type": "code",
   "execution_count": null,
   "metadata": {},
   "outputs": [],
   "source": [
    "dic"
   ]
  },
  {
   "cell_type": "markdown",
   "metadata": {},
   "source": [
    "### Programmation Orientée Objet : les classes"
   ]
  },
  {
   "cell_type": "code",
   "execution_count": null,
   "metadata": {},
   "outputs": [],
   "source": [
    "\"\"\"\n",
    "Exemple de classe en Python\n",
    "\"\"\"\n",
    "class Moteur:\n",
    "    \n",
    "    # Constructeur\n",
    "    def __init__(self, esn, panne=False):\n",
    "        self.esn = esn\n",
    "        self.panne = panne\n",
    "    \n",
    "    # Méthodes\n",
    "    def dire_bonjour(self):\n",
    "        print('Bonjour, mon numéro de série est ' + self.esn)\n",
    "    \n",
    "    def fonctionne(self):\n",
    "        return not self.panne \n",
    "    "
   ]
  },
  {
   "cell_type": "code",
   "execution_count": null,
   "metadata": {},
   "outputs": [],
   "source": [
    "mot1 = Moteur('420912')\n",
    "mot2 = Moteur(panne=True, esn='420913')\n",
    "\n",
    "mot1.dire_bonjour()\n",
    "print(mot1.fonctionne())\n",
    "print('BOUM!!')\n",
    "mot1.panne = True\n",
    "print(mot1.fonctionne())\n",
    "\n",
    "print('\\n')\n",
    "mot2.dire_bonjour()\n",
    "print(mot2.fonctionne())"
   ]
  },
  {
   "cell_type": "markdown",
   "metadata": {},
   "source": [
    "## Calcul scientifique et analyse de données en Python avec la suite scipy\n",
    "\n",
    "https://scipy.org/\n",
    "\n",
    "### numpy\n",
    "\n",
    "<img height=\"200px\" src=\"rc/numpy_logo.png\" />\n",
    "\n",
    "http://www.numpy.org/\n",
    "\n",
    "* Calcul sur des NDArrays ($n$-dimensional array) : vecteurs, matrices, tenseurs...\n",
    "* Utilisation similaire à Matlab\n",
    "* Utilise des libraires en C compilées d'algèbre linéaire $\\rightarrow$ performant\n",
    "* Compatible avec de très nombreuse libraires de data science/machine learning/deep learning : pandas, scikit-learn, Tensorflow, MXNet, etc."
   ]
  },
  {
   "cell_type": "markdown",
   "metadata": {},
   "source": [
    "## Compatif de performance : produit matriciel"
   ]
  },
  {
   "cell_type": "code",
   "execution_count": null,
   "metadata": {},
   "outputs": [],
   "source": [
    "import random"
   ]
  },
  {
   "cell_type": "code",
   "execution_count": null,
   "metadata": {},
   "outputs": [],
   "source": [
    "# Création d'une matrice aléatoire sous forme de liste de listes\n",
    "taille = 2\n",
    "A = [[random.random() for _ in range(taille)] for _ in range(taille)]"
   ]
  },
  {
   "cell_type": "code",
   "execution_count": null,
   "metadata": {},
   "outputs": [],
   "source": [
    "print(A)"
   ]
  },
  {
   "cell_type": "code",
   "execution_count": null,
   "metadata": {},
   "outputs": [],
   "source": [
    "\"\"\"\n",
    "EXERCICE - Afficher un tuple contenant les dimensions de la matrice A\n",
    "\"\"\"\n",
    "raise NotImplementedError"
   ]
  },
  {
   "cell_type": "markdown",
   "metadata": {},
   "source": [
    "$$ (AB)_{ij} = \\sum_k A_{ik} B_{kj} $$"
   ]
  },
  {
   "cell_type": "code",
   "execution_count": null,
   "metadata": {},
   "outputs": [],
   "source": [
    "\"\"\"\n",
    "EXERCICE - Implémenter le produit matriciel de 2 matrices sous forme de listes de listes python\n",
    "\"\"\"\n",
    "raise NotImplementedError"
   ]
  },
  {
   "cell_type": "code",
   "execution_count": null,
   "metadata": {},
   "outputs": [],
   "source": [
    "# Vérification\n",
    "assert(produit([[1, 2], [3, 4]], [[1, 2], [3, 4]]) == [[7, 10], [15, 22]])"
   ]
  },
  {
   "cell_type": "code",
   "execution_count": null,
   "metadata": {},
   "outputs": [],
   "source": [
    "produit(A, A)"
   ]
  },
  {
   "cell_type": "code",
   "execution_count": null,
   "metadata": {},
   "outputs": [],
   "source": [
    "# Sortons le chronomètre\n",
    "%timeit produit(A, A)"
   ]
  },
  {
   "cell_type": "code",
   "execution_count": null,
   "metadata": {},
   "outputs": [],
   "source": [
    "# Et maintenant, avec numpy !\n",
    "import numpy as np"
   ]
  },
  {
   "cell_type": "code",
   "execution_count": null,
   "metadata": {},
   "outputs": [],
   "source": [
    "A2 = np.array(A)\n",
    "print(A2)"
   ]
  },
  {
   "cell_type": "code",
   "execution_count": null,
   "metadata": {},
   "outputs": [],
   "source": [
    "%timeit np.dot(A, A)"
   ]
  },
  {
   "cell_type": "markdown",
   "metadata": {},
   "source": [
    "EXERCICE - Remplissez le tableau suivant avec les durées d'exécution constatées :\n",
    "\n",
    "(Conseil : pour la taille 3000, essayez UNIQUEMENT avec numpy)\n",
    "\n",
    "Taille | Python | numpy\n",
    "-------|--------|-------\n",
    "30     | XXX    | XXX\n",
    "300    | XXX    | XXX\n",
    "3000   | XXX    | XXX "
   ]
  },
  {
   "cell_type": "markdown",
   "metadata": {},
   "source": [
    "Sur ma machine : \n",
    "\n",
    "Taille | Python | numpy\n",
    "-------|--------|-------\n",
    "30     | 3.35 **ms** | 47.6 **$\\mu$s**\n",
    "300    | 3.29 **s** | 6.02 **ms**\n",
    "3000   | NOPE | 1.65 **s** \n",
    "\n",
    "\n",
    "Sachant que le produit matriciel (naïf) a une complexité $\\mathcal{O}(n^3)$, le calcul est vite fait..."
   ]
  },
  {
   "cell_type": "markdown",
   "metadata": {},
   "source": [
    "### Fonctionnalités courantes de numpy"
   ]
  },
  {
   "cell_type": "code",
   "execution_count": null,
   "metadata": {},
   "outputs": [],
   "source": [
    "# Création d'un array à partir d'une liste\n",
    "v = np.array([1.0, 2.0, 3.0])\n",
    "# Création d'un array de taille (n,m) initialisé à 0\n",
    "z = np.zeros((3,4))\n",
    "z"
   ]
  },
  {
   "cell_type": "code",
   "execution_count": null,
   "metadata": {},
   "outputs": [],
   "source": [
    "# Taille d'un array\n",
    "print(z.shape)\n",
    "print(v.shape)"
   ]
  },
  {
   "cell_type": "code",
   "execution_count": null,
   "metadata": {},
   "outputs": [],
   "source": [
    "# Opérations courantes\n",
    "A = np.ones((3,3)) + np.eye(3)\n",
    "print('A = ')\n",
    "print(A)\n",
    "print('Av = ')\n",
    "print(np.dot(A,v))\n",
    "print('3*A = ')\n",
    "print(3*A)\n",
    "print('A*v = ')\n",
    "print(A*v)\n",
    "print('A + 1 = ')\n",
    "print(A+1)\n",
    "print('A + v = ')\n",
    "print(A+v)\n",
    "print('A^2 = ')\n",
    "print(np.square(A))"
   ]
  },
  {
   "cell_type": "markdown",
   "metadata": {},
   "source": [
    "### pandas\n",
    "\n",
    "<img width=\"200px\" src=\"rc/pandas-logo.png\" />\n",
    "\n",
    "http://pandas.pydata.org/\n",
    "\n",
    "Traitement de données **structurées** sous forme d'une abstraction appelée **DataFrame** (type : `pd.DataFrame`) : données organisées par colonnes nommées (table relationnelle). Permet notamment de lire et traiter des fichiers de données structurées comme les fichiers CSV. Une donnée sous forme de colonne ou ligne (vecteur) a pour type `pd.Series`.\n",
    "\n",
    "**À CONSULTER SANS MODÉRATION : la documentation**\n",
    "\n",
    "* http://pandas.pydata.org/pandas-docs/stable/api.html#dataframe (pd.DataFrame)\n",
    "* http://pandas.pydata.org/pandas-docs/stable/api.html#series (pd.Series)"
   ]
  },
  {
   "cell_type": "code",
   "execution_count": null,
   "metadata": {},
   "outputs": [],
   "source": [
    "import pandas as pd"
   ]
  },
  {
   "cell_type": "code",
   "execution_count": null,
   "metadata": {},
   "outputs": [],
   "source": [
    "df_exemple = pd.DataFrame({\"ESN\": [\"E420912\", \"E420913\", \"E420914\"], \"panne\": [False, False, True]})\n",
    "df_exemple"
   ]
  },
  {
   "cell_type": "markdown",
   "metadata": {},
   "source": [
    "### Lecture et prétraitement de données"
   ]
  },
  {
   "cell_type": "code",
   "execution_count": null,
   "metadata": {},
   "outputs": [],
   "source": [
    "!git clone https://github.com/FlorentF9/SupGalilee-tdstats.git"
   ]
  },
  {
   "cell_type": "code",
   "execution_count": null,
   "metadata": {},
   "outputs": [],
   "source": [
    "import os\n",
    "os.chdir('SupGalilee-tdstats')"
   ]
  },
  {
   "cell_type": "code",
   "execution_count": null,
   "metadata": {},
   "outputs": [],
   "source": [
    "# Chargement d'un fichier CSV ou Excel\n",
    "df = pd.read_csv(\"./data/Vol010.csv\")\n",
    "# Affichage des 5 premières lignes\n",
    "df.head()"
   ]
  },
  {
   "cell_type": "code",
   "execution_count": null,
   "metadata": {},
   "outputs": [],
   "source": [
    "\"\"\"\n",
    "EXERCICE - Dimensions d'un DataFrame\n",
    "Affichez le nombre de colonnes et de ligne du DataFrame (indice : beaucoup de méthodes sont communes entre numpy et pandas)\n",
    "\"\"\"\n",
    "raise NotImplementedError\n",
    "print('Nombre de colonnes :', )\n",
    "print('Nombre de lignes :', )"
   ]
  },
  {
   "cell_type": "markdown",
   "metadata": {},
   "source": [
    "Il est important de comprendre la structure des `DataFrame` pandas. Un DataFrame (abrégé DF) est constitué principalement de :\n",
    "\n",
    "* Colonnes (_columns_), nommées. Le nom des colonnes est accessible via `df.columns`. Les colonnes peuvent être renommées. On sélectionne une colonne à l'aide de la syntaxe `df['nom_de_la_colonne']` (similaire aux dictionnaires python) ou `df.nom_de_la_colonne` (la syntaxe avec un point ne fonctionne pas si le nom de colonne contient des espaces). On peut accéder à plusieurs colonnes à la fois à l'aide d'une liste de noms de colonnes : `df[['colonne1', 'colonne2']]'`(attention aux doubles crochets).\n",
    "* Lignes (_rows_), associées à un _index_. L'index par défaut est 0, 1, 2, etc. mais peut être constitué de clés différentes (ex : index temporel). L'index **n'est pas** une colonne. On accède à une ligne de deux façons. Soit via l'index de la colonne : `df.loc[idx]`, soit via le numéro de la ligne (i-ème ligne) : `df.iloc[i]`. On accède à un ensemble de lignes en utilisant une liste ou un _slice_ d'indices, e.g. `df.iloc[2:10]` pour accéder aux lignes 2 à **9**.\n",
    "\n",
    "La sélection des lignes et colonnes peut être combinée avec loc/iloc. Par exemple, pour sélectionner les lignes 10 à 14 des colonnes EGT_SEL et FMV_SEL :\n",
    "```\n",
    "df.loc[10:15, ['EGT_SEL', 'FLIGHT_MOD']]\n",
    "```\n",
    "Ou, en utilisant les numéro d'indice associés aux lignes et aux colonnes :\n",
    "```\n",
    "df.iloc[10:15, [1, 3]]\n",
    "```\n",
    "\n",
    "Les colonnes des DF sont **typées**, à la manière d'une base de données relationnelle, contrairement aux variables python classiques. Les types des colonnes sont accessibles via `df.dtypes`. Les principaux types sont les numériques (int32, int64, float etc."
   ]
  },
  {
   "cell_type": "code",
   "execution_count": null,
   "metadata": {},
   "outputs": [],
   "source": [
    "df.loc[10:15, ['EGT_SEL', 'FLIGHT_MOD']]"
   ]
  },
  {
   "cell_type": "code",
   "execution_count": null,
   "metadata": {},
   "outputs": [],
   "source": [
    "\"\"\"\n",
    "EXERCICE - Extraction et suppression des unités\n",
    "On remarque que la 1ère ligne ne contient pas de données mais les unités de chaque colonne.\n",
    "Pour la suite des traitements, il faut supprimer cette ligne. On souhaite toutefois garder l'information des unités de chaque colonne.\n",
    "1. Récupérez les unités et stockez les dans une structure adaptée.\n",
    "2. Supprimez cette ligne du DataFrame en utilisant la méthode \"drop\"\n",
    "\"\"\"\n",
    "raise NotImplementedError"
   ]
  },
  {
   "cell_type": "code",
   "execution_count": null,
   "metadata": {},
   "outputs": [],
   "source": [
    "print(units)\n",
    "df.head()"
   ]
  },
  {
   "cell_type": "markdown",
   "metadata": {},
   "source": [
    "On remarque que toutes les colonnes ont été reconnues comme de type `object`, c'est-à-dire des chaînes de caractères, alors que ce sont des valeurs numériques. Cela est dû à la première ligne contenant les unités. Il faut donc convertir les colonnes en numérique. La colonne 't', quant à elle, doit être convertie en type `datetime`."
   ]
  },
  {
   "cell_type": "code",
   "execution_count": null,
   "metadata": {},
   "outputs": [],
   "source": [
    "df['t'] = pd.to_datetime(df['t'])\n",
    "df[df.columns[1:]] = df[df.columns[1:]].apply(pd.to_numeric)"
   ]
  },
  {
   "cell_type": "code",
   "execution_count": null,
   "metadata": {},
   "outputs": [],
   "source": [
    "df.dtypes"
   ]
  },
  {
   "cell_type": "code",
   "execution_count": null,
   "metadata": {},
   "outputs": [],
   "source": [
    "\"\"\"\n",
    "Exercice - Index temporel\n",
    "Comme nos données sont une série temporelle multivariée, on souhaite utiliser un index temporel.\n",
    "1. Créez une copie de df, appelée df2, à l'aide de la méthode du même nom.\n",
    "2. Affectez la colonne du temps ('t') en tant qu'indice du DataFrame.\n",
    "3. Supprimez la colonne 't' du DF résultant.\n",
    "\"\"\"\n",
    "raise NotImplementedError"
   ]
  },
  {
   "cell_type": "markdown",
   "metadata": {},
   "source": [
    "On constate que pandas a automatiquement reconnu un `DatetimeIndex`, adapté pour des manipulations de séries temporelles (moyennes glissantes, etc) !\n",
    "\n",
    "**Indispensable : ** La doc http://pandas.pydata.org/pandas-docs/stable/api.html#dataframe\n",
    "\n"
   ]
  },
  {
   "cell_type": "markdown",
   "metadata": {},
   "source": [
    "### Valeurs manquantes\n",
    "\n",
    "**NaN = Not a Number**\n",
    "\n",
    "Les valeurs NaN doivent être éliminées ou imputées (i.e. remplacées par une certaine valeur) avant la suite des traitements. Ce choix dépend du cas d'usage. Dans un premier temps, nous allons apprendre à :\n",
    "\n",
    "* trouver les données manquantes (méthode `isna`)\n",
    "* éliminer les données manquantes d'un DataFrame (méthode `dropna`)\n",
    "* les remplacer par une constante (méthode (`fillna`)"
   ]
  },
  {
   "cell_type": "code",
   "execution_count": null,
   "metadata": {},
   "outputs": [],
   "source": [
    "\"\"\"\n",
    "EXERCICE - La méthode isna\n",
    "1. Testez la méthode isna sur le DataFrame df2, puis sur une colonne ou une ligne. Que renvoie-t-elle ?\n",
    "2. En appliquant les méthodes any(axis=...), mean() et max()/idxmax() sur les résultats de isna(), répondez aux questions suivantes :\n",
    "    2.1 Quelles colonnes contiennent des valeurs manquantes, lesquelles n'en contiennent pas ?\n",
    "    2.2 Quel est le pourcentage de valeurs manquantes dans le DF (a) par colonne (b) globalement ? Quelle variable contient le plus de NaN ?\n",
    "    2.3 Quel est le pourcentage d'indices du DF pour lesquels toutes les variables sont présentes ?\n",
    "\"\"\"\n",
    "print('Question 2.1')\n",
    "raise NotImplementedError\n",
    "print('Question 2.2')\n",
    "raise NotImplementedError\n",
    "print('Question 2.3')\n",
    "raise NotImplementedError"
   ]
  },
  {
   "cell_type": "code",
   "execution_count": null,
   "metadata": {},
   "outputs": [],
   "source": [
    "\"\"\"\n",
    "EXERCICE - La méthode dropna\n",
    "La méthode dropna permet d'éliminer les valeurs manquantes (NaN). Lisez d'abord sa documentation.\n",
    "1. À quoi correspondent les arguments \"axis\" et \"how\" ?\n",
    "2. Éliminez toutes les lignes contenant uniquement des valeurs manquantes.\n",
    "3. Éliminez toutes les lignes contenant au moins une valeur manquante. Combien y a-t-il de lignes de différence ?\n",
    "4. Éliminez toutes les colonnes contenant au moins une valeur manquante.\n",
    "\"\"\"\n",
    "raise NotImplementedError\n"
   ]
  },
  {
   "cell_type": "code",
   "execution_count": null,
   "metadata": {},
   "outputs": [],
   "source": [
    "\"\"\"\n",
    "EXERCICE - La méthode fillna\n",
    "La méthode dropna permet d'imputer les valeurs manquantes (NaN). Lisez d'abord sa documentation.\n",
    "1. Quelles sont les différentes stratégies de remplissage des valeurs manquantes ?\n",
    "2. Imputez les valeurs manquantes de la colonne age du DF donné en exemple par :\n",
    "    - 0\n",
    "    - la dernière valeur précédente/suivante valide\n",
    "    - la moyenne\n",
    "    - la valeur la plus courante (mode)\n",
    "3. Quel est le meilleur choix dans ce cas ? Et pour le cas d'une variable temporelle, par exemple la température 'EGT_SEL' de notre jeu de données ?\n",
    "\"\"\"\n",
    "exemple = pd.DataFrame({'nom': ['Alice', 'Bob', 'Charlie', 'David'], 'age': [24, pd.np.nan, 99, 24]})\n",
    "\n",
    "raise NotImplementedError"
   ]
  },
  {
   "cell_type": "markdown",
   "metadata": {},
   "source": [
    "### Pour aller plus loin\n",
    "\n",
    "Il est possible de sous-échantillonner un DF avec un indice temporel, en indiquant une fréquence à la méthode `asfreq` (http://pandas.pydata.org/pandas-docs/stable/generated/pandas.PeriodIndex.asfreq.html#pandas.PeriodIndex.asfreq)."
   ]
  },
  {
   "cell_type": "code",
   "execution_count": null,
   "metadata": {},
   "outputs": [],
   "source": [
    "df3 = df2.asfreq('1s')"
   ]
  },
  {
   "cell_type": "code",
   "execution_count": null,
   "metadata": {},
   "outputs": [],
   "source": [
    "df3.index"
   ]
  },
  {
   "cell_type": "code",
   "execution_count": null,
   "metadata": {},
   "outputs": [],
   "source": [
    "# Quelle est maintenant la taille du DataFrame ?\n",
    "raise NotImplementedError"
   ]
  },
  {
   "cell_type": "markdown",
   "metadata": {},
   "source": [
    "---\n",
    "\n",
    "<img src=\"rc/44582958_1164602683690726_9096620181785935872_n.jpg\" />"
   ]
  }
 ],
 "metadata": {
  "kernelspec": {
   "display_name": "Python 3",
   "language": "python",
   "name": "python3"
  },
  "language_info": {
   "codemirror_mode": {
    "name": "ipython",
    "version": 3
   },
   "file_extension": ".py",
   "mimetype": "text/x-python",
   "name": "python",
   "nbconvert_exporter": "python",
   "pygments_lexer": "ipython3",
   "version": "3.5.2"
  }
 },
 "nbformat": 4,
 "nbformat_minor": 4
}
